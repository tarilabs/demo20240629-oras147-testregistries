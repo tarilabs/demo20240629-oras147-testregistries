{
 "cells": [
  {
   "cell_type": "code",
   "execution_count": 1,
   "metadata": {},
   "outputs": [
    {
     "name": "stderr",
     "output_type": "stream",
     "text": [
      "DEBUG:oras.logger:Preparing layer {'mediaType': 'application/vnd.oci.image.layer.v1.tar', 'size': 164, 'digest': 'sha256:7f52942f815315896486adb3dd78f80d31a3269292eea67cf09d49ec3593c516', 'annotations': {'org.opencontainers.image.title': 'artifact.txt'}}\n",
      "DEBUG:urllib3.connectionpool:Starting new HTTPS connection (1): quay.io:443\n",
      "DEBUG:urllib3.connectionpool:https://quay.io:443 \"POST /v2/mmortari/demo20240629-oras147/blobs/uploads/ HTTP/11\" 401 112\n",
      "DEBUG:oras.logger:No Authorization, requesting anonymous token\n",
      "DEBUG:oras.logger:Final params are {'service': 'quay.io', 'scope': 'repository:mmortari/demo20240629-oras147:pull,push'}\n",
      "DEBUG:urllib3.connectionpool:https://quay.io:443 \"GET /v2/auth?service=quay.io&scope=repository%3Ammortari%2Fdemo20240629-oras147%3Apull%2Cpush HTTP/11\" 200 870\n",
      "DEBUG:oras.logger:Successfully obtained anonymous token!\n",
      "DEBUG:urllib3.connectionpool:https://quay.io:443 \"POST /v2/mmortari/demo20240629-oras147/blobs/uploads/ HTTP/11\" 401 112\n"
     ]
    },
    {
     "ename": "ValueError",
     "evalue": "Issue retrieving session url: {'errors': [{'code': 'UNAUTHORIZED', 'detail': {}, 'message': 'access to the requested resource is not authorized'}]}",
     "output_type": "error",
     "traceback": [
      "\u001b[0;31m---------------------------------------------------------------------------\u001b[0m",
      "\u001b[0;31mValueError\u001b[0m                                Traceback (most recent call last)",
      "Cell \u001b[0;32mIn[1], line 8\u001b[0m\n\u001b[1;32m      6\u001b[0m client \u001b[38;5;241m=\u001b[39m oras\u001b[38;5;241m.\u001b[39mclient\u001b[38;5;241m.\u001b[39mOrasClient()\n\u001b[1;32m      7\u001b[0m \u001b[38;5;66;03m# skipping client.login() for my Quay.io: using already-stored credentials from ~/.docker/config.json\u001b[39;00m\n\u001b[0;32m----> 8\u001b[0m \u001b[43mclient\u001b[49m\u001b[38;5;241;43m.\u001b[39;49m\u001b[43mpush\u001b[49m\u001b[43m(\u001b[49m\u001b[43mfiles\u001b[49m\u001b[38;5;241;43m=\u001b[39;49m\u001b[43m[\u001b[49m\u001b[38;5;124;43m\"\u001b[39;49m\u001b[38;5;124;43martifact.txt\u001b[39;49m\u001b[38;5;124;43m\"\u001b[39;49m\u001b[43m]\u001b[49m\u001b[43m,\u001b[49m\u001b[43m \u001b[49m\u001b[43mtarget\u001b[49m\u001b[38;5;241;43m=\u001b[39;49m\u001b[38;5;124;43m\"\u001b[39;49m\u001b[38;5;124;43mquay.io/mmortari/demo20240629-oras147\u001b[39;49m\u001b[38;5;124;43m\"\u001b[39;49m\u001b[43m)\u001b[49m\n",
      "File \u001b[0;32m~/Library/Caches/pypoetry/virtualenvs/demo20240629-oras147-testregistries-Ja2Z1fe0-py3.10/lib/python3.10/site-packages/oras/provider.py:762\u001b[0m, in \u001b[0;36mRegistry.push\u001b[0;34m(self, target, config_path, disable_path_validation, files, manifest_config, annotation_file, manifest_annotations, subject)\u001b[0m\n\u001b[1;32m    759\u001b[0m logger\u001b[38;5;241m.\u001b[39mdebug(\u001b[38;5;124mf\u001b[39m\u001b[38;5;124m\"\u001b[39m\u001b[38;5;124mPreparing layer \u001b[39m\u001b[38;5;132;01m{\u001b[39;00mlayer\u001b[38;5;132;01m}\u001b[39;00m\u001b[38;5;124m\"\u001b[39m)\n\u001b[1;32m    761\u001b[0m \u001b[38;5;66;03m# Upload the blob layer\u001b[39;00m\n\u001b[0;32m--> 762\u001b[0m response \u001b[38;5;241m=\u001b[39m \u001b[38;5;28;43mself\u001b[39;49m\u001b[38;5;241;43m.\u001b[39;49m\u001b[43mupload_blob\u001b[49m\u001b[43m(\u001b[49m\u001b[43mblob\u001b[49m\u001b[43m,\u001b[49m\u001b[43m \u001b[49m\u001b[43mcontainer\u001b[49m\u001b[43m,\u001b[49m\u001b[43m \u001b[49m\u001b[43mlayer\u001b[49m\u001b[43m)\u001b[49m\n\u001b[1;32m    763\u001b[0m \u001b[38;5;28mself\u001b[39m\u001b[38;5;241m.\u001b[39m_check_200_response(response)\n\u001b[1;32m    765\u001b[0m \u001b[38;5;66;03m# Do we need to cleanup a temporary targz?\u001b[39;00m\n",
      "File \u001b[0;32m~/Library/Caches/pypoetry/virtualenvs/demo20240629-oras147-testregistries-Ja2Z1fe0-py3.10/lib/python3.10/site-packages/oras/provider.py:275\u001b[0m, in \u001b[0;36mRegistry.upload_blob\u001b[0;34m(self, blob, container, layer, do_chunked)\u001b[0m\n\u001b[1;32m    271\u001b[0m \u001b[38;5;66;03m# Chunked for large, otherwise POST and PUT\u001b[39;00m\n\u001b[1;32m    272\u001b[0m \u001b[38;5;66;03m# This is currently disabled unless the user asks for it, as\u001b[39;00m\n\u001b[1;32m    273\u001b[0m \u001b[38;5;66;03m# it doesn't seem to work for all registries\u001b[39;00m\n\u001b[1;32m    274\u001b[0m \u001b[38;5;28;01mif\u001b[39;00m \u001b[38;5;129;01mnot\u001b[39;00m do_chunked:\n\u001b[0;32m--> 275\u001b[0m     response \u001b[38;5;241m=\u001b[39m \u001b[38;5;28;43mself\u001b[39;49m\u001b[38;5;241;43m.\u001b[39;49m\u001b[43mput_upload\u001b[49m\u001b[43m(\u001b[49m\u001b[43mblob\u001b[49m\u001b[43m,\u001b[49m\u001b[43m \u001b[49m\u001b[43mcontainer\u001b[49m\u001b[43m,\u001b[49m\u001b[43m \u001b[49m\u001b[43mlayer\u001b[49m\u001b[43m)\u001b[49m\n\u001b[1;32m    276\u001b[0m \u001b[38;5;28;01melse\u001b[39;00m:\n\u001b[1;32m    277\u001b[0m     response \u001b[38;5;241m=\u001b[39m \u001b[38;5;28mself\u001b[39m\u001b[38;5;241m.\u001b[39mchunked_upload(blob, container, layer)\n",
      "File \u001b[0;32m~/Library/Caches/pypoetry/virtualenvs/demo20240629-oras147-testregistries-Ja2Z1fe0-py3.10/lib/python3.10/site-packages/oras/provider.py:523\u001b[0m, in \u001b[0;36mRegistry.put_upload\u001b[0;34m(self, blob, container, layer)\u001b[0m\n\u001b[1;32m    521\u001b[0m session_url \u001b[38;5;241m=\u001b[39m \u001b[38;5;28mself\u001b[39m\u001b[38;5;241m.\u001b[39m_get_location(r, container)\n\u001b[1;32m    522\u001b[0m \u001b[38;5;28;01mif\u001b[39;00m \u001b[38;5;129;01mnot\u001b[39;00m session_url:\n\u001b[0;32m--> 523\u001b[0m     \u001b[38;5;28;01mraise\u001b[39;00m \u001b[38;5;167;01mValueError\u001b[39;00m(\u001b[38;5;124mf\u001b[39m\u001b[38;5;124m\"\u001b[39m\u001b[38;5;124mIssue retrieving session url: \u001b[39m\u001b[38;5;132;01m{\u001b[39;00mr\u001b[38;5;241m.\u001b[39mjson()\u001b[38;5;132;01m}\u001b[39;00m\u001b[38;5;124m\"\u001b[39m)\n\u001b[1;32m    525\u001b[0m \u001b[38;5;66;03m# PUT to upload blob url\u001b[39;00m\n\u001b[1;32m    526\u001b[0m headers \u001b[38;5;241m=\u001b[39m {\n\u001b[1;32m    527\u001b[0m     \u001b[38;5;124m\"\u001b[39m\u001b[38;5;124mContent-Length\u001b[39m\u001b[38;5;124m\"\u001b[39m: \u001b[38;5;28mstr\u001b[39m(layer[\u001b[38;5;124m\"\u001b[39m\u001b[38;5;124msize\u001b[39m\u001b[38;5;124m\"\u001b[39m]),\n\u001b[1;32m    528\u001b[0m     \u001b[38;5;124m\"\u001b[39m\u001b[38;5;124mContent-Type\u001b[39m\u001b[38;5;124m\"\u001b[39m: \u001b[38;5;124m\"\u001b[39m\u001b[38;5;124mapplication/octet-stream\u001b[39m\u001b[38;5;124m\"\u001b[39m,\n\u001b[1;32m    529\u001b[0m }\n",
      "\u001b[0;31mValueError\u001b[0m: Issue retrieving session url: {'errors': [{'code': 'UNAUTHORIZED', 'detail': {}, 'message': 'access to the requested resource is not authorized'}]}"
     ]
    }
   ],
   "source": [
    "import logging\n",
    "logging.basicConfig(level=logging.DEBUG)\n",
    "\n",
    "import oras.client\n",
    "\n",
    "client = oras.client.OrasClient()\n",
    "# skipping client.login() for my Quay.io: using already-stored credentials from ~/.docker/config.json\n",
    "client.push(files=[\"artifact.txt\"], target=\"quay.io/mmortari/demo20240629-oras147\")"
   ]
  },
  {
   "cell_type": "code",
   "execution_count": null,
   "metadata": {},
   "outputs": [],
   "source": [
    "client.pull(\"quay.io/mmortari/demo20240629-oras147\", outdir=\"tmp/quayio\")\n",
    "!cat tmp/quayio/artifact.txt"
   ]
  }
 ],
 "metadata": {
  "kernelspec": {
   "display_name": "demo20240629-oras147-testregistries-Ja2Z1fe0-py3.10",
   "language": "python",
   "name": "python3"
  },
  "language_info": {
   "codemirror_mode": {
    "name": "ipython",
    "version": 3
   },
   "file_extension": ".py",
   "mimetype": "text/x-python",
   "name": "python",
   "nbconvert_exporter": "python",
   "pygments_lexer": "ipython3",
   "version": "3.10.13"
  }
 },
 "nbformat": 4,
 "nbformat_minor": 2
}
