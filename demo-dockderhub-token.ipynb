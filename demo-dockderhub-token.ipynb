{
 "cells": [
  {
   "cell_type": "code",
   "execution_count": 1,
   "metadata": {},
   "outputs": [
    {
     "name": "stderr",
     "output_type": "stream",
     "text": [
      "DEBUG:oras.logger:Preparing layer {'mediaType': 'application/vnd.oci.image.layer.v1.tar', 'size': 164, 'digest': 'sha256:7f52942f815315896486adb3dd78f80d31a3269292eea67cf09d49ec3593c516', 'annotations': {'org.opencontainers.image.title': 'artifact.txt'}}\n",
      "DEBUG:urllib3.connectionpool:Starting new HTTPS connection (1): docker.io:443\n"
     ]
    },
    {
     "name": "stdout",
     "output_type": "stream",
     "text": [
      "Version: 0.2.0\n",
      "Python version: 3.10.13\n"
     ]
    },
    {
     "name": "stderr",
     "output_type": "stream",
     "text": [
      "DEBUG:urllib3.connectionpool:https://docker.io:443 \"POST /v2/matteomortari/demo20240629-oras147/blobs/uploads/ HTTP/11\" 301 0\n",
      "DEBUG:urllib3.connectionpool:Starting new HTTPS connection (1): www.docker.com:443\n",
      "DEBUG:urllib3.connectionpool:https://www.docker.com:443 \"GET /v2/matteomortari/demo20240629-oras147/blobs/uploads/ HTTP/11\" 301 None\n",
      "DEBUG:urllib3.connectionpool:https://www.docker.com:443 \"GET / HTTP/11\" 403 None\n",
      "DEBUG:oras.logger:Www-Authenticate not found in original response, cannot authenticate.\n",
      "ERROR:oras.logger:Cannot respond to request for authentication.\n"
     ]
    },
    {
     "ename": "SystemExit",
     "evalue": "1",
     "output_type": "error",
     "traceback": [
      "An exception has occurred, use %tb to see the full traceback.\n",
      "\u001b[0;31mSystemExit\u001b[0m\u001b[0;31m:\u001b[0m 1\n"
     ]
    },
    {
     "name": "stderr",
     "output_type": "stream",
     "text": [
      "/Users/mmortari/Library/Caches/pypoetry/virtualenvs/demo20240629-oras147-testregistries-Ja2Z1fe0-py3.10/lib/python3.10/site-packages/IPython/core/interactiveshell.py:3585: UserWarning: To exit: use 'exit', 'quit', or Ctrl-D.\n",
      "  warn(\"To exit: use 'exit', 'quit', or Ctrl-D.\", stacklevel=1)\n"
     ]
    }
   ],
   "source": [
    "import logging\n",
    "logging.basicConfig(level=logging.DEBUG)\n",
    "\n",
    "import oras.client\n",
    "\n",
    "client = oras.client.OrasClient()\n",
    "print(client.version())\n",
    "# skipping client.login() for my docker.io: using already-stored credentials from ~/.docker/config.json\n",
    "client.push(files=[\"artifact.txt\"], target=\"docker.io/matteomortari/demo20240629-oras147:latest\")"
   ]
  },
  {
   "cell_type": "code",
   "execution_count": null,
   "metadata": {},
   "outputs": [],
   "source": [
    "!rm -rf tmp/dockerhub/*\n",
    "client.pull(target=\"docker.io/matteomortari/demo20240629-oras147:latest\", outdir=\"tmp/dockerhub\")"
   ]
  },
  {
   "cell_type": "code",
   "execution_count": null,
   "metadata": {},
   "outputs": [],
   "source": [
    "!cat tmp/dockerhub/artifact.txt"
   ]
  }
 ],
 "metadata": {
  "kernelspec": {
   "display_name": "demo20240629-oras147-testregistries-Ja2Z1fe0-py3.10",
   "language": "python",
   "name": "python3"
  },
  "language_info": {
   "codemirror_mode": {
    "name": "ipython",
    "version": 3
   },
   "file_extension": ".py",
   "mimetype": "text/x-python",
   "name": "python",
   "nbconvert_exporter": "python",
   "pygments_lexer": "ipython3",
   "version": "3.10.13"
  }
 },
 "nbformat": 4,
 "nbformat_minor": 2
}
