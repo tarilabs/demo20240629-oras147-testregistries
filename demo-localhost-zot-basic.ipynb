{
 "cells": [
  {
   "cell_type": "markdown",
   "metadata": {},
   "source": [
    "Using `config/zot/run_registry.sh`\n",
    "\n",
    "```\n",
    "CONTAINER ID   IMAGE                                        COMMAND                  CREATED          STATUS          PORTS      NAMES\n",
    "39b5aea4012f   ghcr.io/project-zot/zot-linux-arm64:latest   \"serve /etc/zot/conf…\"   17 seconds ago   Up 16 seconds   5000/tcp   registry\n",
    "```"
   ]
  },
  {
   "cell_type": "code",
   "execution_count": 4,
   "metadata": {},
   "outputs": [
    {
     "name": "stderr",
     "output_type": "stream",
     "text": [
      "DEBUG:oras.logger:Preparing layer {'mediaType': 'application/vnd.oci.image.layer.v1.tar', 'size': 164, 'digest': 'sha256:7f52942f815315896486adb3dd78f80d31a3269292eea67cf09d49ec3593c516', 'annotations': {'org.opencontainers.image.title': 'artifact.txt'}}\n",
      "DEBUG:urllib3.connectionpool:Starting new HTTP connection (1): localhost:5000\n",
      "DEBUG:urllib3.connectionpool:http://localhost:5000 \"POST /v2/dinosaur/demo20240629-oras147/blobs/uploads/ HTTP/11\" 401 253\n",
      "DEBUG:urllib3.connectionpool:http://localhost:5000 \"POST /v2/dinosaur/demo20240629-oras147/blobs/uploads/ HTTP/11\" 202 0\n",
      "DEBUG:urllib3.connectionpool:http://localhost:5000 \"PUT /v2/dinosaur/demo20240629-oras147/blobs/uploads/7b4a33d4-921b-401d-a5a6-7b6a6099b5b0?digest=sha256%3A7f52942f815315896486adb3dd78f80d31a3269292eea67cf09d49ec3593c516 HTTP/11\" 401 253\n",
      "DEBUG:urllib3.connectionpool:http://localhost:5000 \"PUT /v2/dinosaur/demo20240629-oras147/blobs/uploads/7b4a33d4-921b-401d-a5a6-7b6a6099b5b0?digest=sha256%3A7f52942f815315896486adb3dd78f80d31a3269292eea67cf09d49ec3593c516 HTTP/11\" 201 0\n",
      "DEBUG:oras.logger:Preparing config {'mediaType': 'application/vnd.unknown.config.v1+json', 'size': 2, 'digest': 'sha256:44136fa355b3678a1146ad16f7e8649e94fb4fc21fe77e8310c060f61caaff8a'}\n",
      "DEBUG:urllib3.connectionpool:http://localhost:5000 \"POST /v2/dinosaur/demo20240629-oras147/blobs/uploads/ HTTP/11\" 401 253\n",
      "DEBUG:urllib3.connectionpool:http://localhost:5000 \"POST /v2/dinosaur/demo20240629-oras147/blobs/uploads/ HTTP/11\" 202 0\n",
      "DEBUG:urllib3.connectionpool:http://localhost:5000 \"PUT /v2/dinosaur/demo20240629-oras147/blobs/uploads/4d81f06b-7b63-4050-be15-87e53b3201b6?digest=sha256%3A44136fa355b3678a1146ad16f7e8649e94fb4fc21fe77e8310c060f61caaff8a HTTP/11\" 401 253\n",
      "DEBUG:urllib3.connectionpool:http://localhost:5000 \"PUT /v2/dinosaur/demo20240629-oras147/blobs/uploads/4d81f06b-7b63-4050-be15-87e53b3201b6?digest=sha256%3A44136fa355b3678a1146ad16f7e8649e94fb4fc21fe77e8310c060f61caaff8a HTTP/11\" 201 0\n",
      "DEBUG:urllib3.connectionpool:http://localhost:5000 \"PUT /v2/dinosaur/demo20240629-oras147/manifests/latest HTTP/11\" 401 253\n",
      "DEBUG:urllib3.connectionpool:http://localhost:5000 \"PUT /v2/dinosaur/demo20240629-oras147/manifests/latest HTTP/11\" 201 0\n"
     ]
    },
    {
     "name": "stdout",
     "output_type": "stream",
     "text": [
      "Successfully pushed localhost:5000/dinosaur/demo20240629-oras147:latest\n"
     ]
    },
    {
     "data": {
      "text/plain": [
       "<Response [201]>"
      ]
     },
     "execution_count": 4,
     "metadata": {},
     "output_type": "execute_result"
    }
   ],
   "source": [
    "import logging\n",
    "logging.basicConfig(level=logging.DEBUG)\n",
    "\n",
    "import oras.client\n",
    "client = oras.client.OrasClient(auth_backend=\"basic\", insecure=True)\n",
    "client.login(\"myuser\", \"mypass\")\n",
    "client.push(files=[\"artifact.txt\"], target=\"localhost:5000/dinosaur/demo20240629-oras147\")"
   ]
  },
  {
   "cell_type": "code",
   "execution_count": 5,
   "metadata": {},
   "outputs": [
    {
     "name": "stderr",
     "output_type": "stream",
     "text": [
      "DEBUG:urllib3.connectionpool:http://localhost:5000 \"GET /v2/dinosaur/demo20240629-oras147/manifests/latest HTTP/11\" 401 253\n",
      "DEBUG:urllib3.connectionpool:http://localhost:5000 \"GET /v2/dinosaur/demo20240629-oras147/manifests/latest HTTP/11\" 200 495\n",
      "DEBUG:urllib3.connectionpool:http://localhost:5000 \"GET /v2/dinosaur/demo20240629-oras147/blobs/sha256:7f52942f815315896486adb3dd78f80d31a3269292eea67cf09d49ec3593c516 HTTP/11\" 401 253\n",
      "DEBUG:urllib3.connectionpool:Starting new HTTP connection (2): localhost:5000\n",
      "DEBUG:urllib3.connectionpool:http://localhost:5000 \"GET /v2/dinosaur/demo20240629-oras147/blobs/sha256:7f52942f815315896486adb3dd78f80d31a3269292eea67cf09d49ec3593c516 HTTP/11\" 200 164\n",
      "INFO:oras.logger:Successfully pulled /Users/mmortari/git/demo20240629-oras147-testregistries/tmp/zot/artifact.txt.\n"
     ]
    },
    {
     "data": {
      "text/plain": [
       "['/Users/mmortari/git/demo20240629-oras147-testregistries/tmp/zot/artifact.txt']"
      ]
     },
     "execution_count": 5,
     "metadata": {},
     "output_type": "execute_result"
    }
   ],
   "source": [
    "client.pull(\"localhost:5000/dinosaur/demo20240629-oras147\", outdir=\"tmp/zot\")"
   ]
  },
  {
   "cell_type": "code",
   "execution_count": 6,
   "metadata": {},
   "outputs": [
    {
     "name": "stdout",
     "output_type": "stream",
     "text": [
      "This is the content of the file artifact.txt\n",
      "\n",
      "Using this file just to store some asset as OCI artifact\n",
      "\n",
      "If you are seeing this, this is the content of artifact.txt\n"
     ]
    }
   ],
   "source": [
    "!cat tmp/zot/artifact.txt"
   ]
  }
 ],
 "metadata": {
  "kernelspec": {
   "display_name": "demo20240629-oras147-testregistries-Ja2Z1fe0-py3.10",
   "language": "python",
   "name": "python3"
  },
  "language_info": {
   "codemirror_mode": {
    "name": "ipython",
    "version": 3
   },
   "file_extension": ".py",
   "mimetype": "text/x-python",
   "name": "python",
   "nbconvert_exporter": "python",
   "pygments_lexer": "ipython3",
   "version": "3.10.13"
  }
 },
 "nbformat": 4,
 "nbformat_minor": 2
}
