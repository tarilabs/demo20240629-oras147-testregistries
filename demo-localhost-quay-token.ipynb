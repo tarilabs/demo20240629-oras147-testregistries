{
 "cells": [
  {
   "cell_type": "code",
   "execution_count": 1,
   "metadata": {},
   "outputs": [
    {
     "name": "stderr",
     "output_type": "stream",
     "text": [
      "DEBUG:oras.logger:Preparing layer {'mediaType': 'application/vnd.oci.image.layer.v1.tar', 'size': 164, 'digest': 'sha256:7f52942f815315896486adb3dd78f80d31a3269292eea67cf09d49ec3593c516', 'annotations': {'org.opencontainers.image.title': 'artifact.txt'}}\n",
      "DEBUG:urllib3.connectionpool:Starting new HTTP connection (1): localhost:8080\n",
      "DEBUG:urllib3.connectionpool:http://localhost:8080 \"POST /v2/mmortari/demo20240629-oras147/blobs/uploads/ HTTP/11\" 401 112\n",
      "DEBUG:oras.logger:Service: localhost:8080\n",
      "DEBUG:oras.logger:Scope: repository:mmortari/demo20240629-oras147:pull,push\n",
      "DEBUG:urllib3.connectionpool:Resetting dropped connection: localhost\n",
      "DEBUG:urllib3.connectionpool:http://localhost:8080 \"GET /v2/auth?service=localhost%3A8080&scope=repository%3Ammortari%2Fdemo20240629-oras147%3Apull%2Cpush HTTP/11\" 200 1049\n",
      "DEBUG:urllib3.connectionpool:Resetting dropped connection: localhost\n",
      "DEBUG:urllib3.connectionpool:http://localhost:8080 \"POST /v2/mmortari/demo20240629-oras147/blobs/uploads/ HTTP/11\" 202 0\n",
      "DEBUG:urllib3.connectionpool:Resetting dropped connection: localhost\n",
      "DEBUG:urllib3.connectionpool:http://localhost:8080 \"PUT /v2/mmortari/demo20240629-oras147/blobs/uploads/cdc25887-ade0-4159-b6b1-74b194303a8c?digest=sha256%3A7f52942f815315896486adb3dd78f80d31a3269292eea67cf09d49ec3593c516 HTTP/11\" 201 0\n",
      "DEBUG:oras.logger:Preparing config {'mediaType': 'application/vnd.unknown.config.v1+json', 'size': 2, 'digest': 'sha256:44136fa355b3678a1146ad16f7e8649e94fb4fc21fe77e8310c060f61caaff8a'}\n",
      "DEBUG:urllib3.connectionpool:Resetting dropped connection: localhost\n",
      "DEBUG:urllib3.connectionpool:http://localhost:8080 \"POST /v2/mmortari/demo20240629-oras147/blobs/uploads/ HTTP/11\" 401 112\n",
      "DEBUG:oras.logger:Service: localhost:8080\n",
      "DEBUG:oras.logger:Scope: repository:mmortari/demo20240629-oras147:pull,push\n",
      "DEBUG:urllib3.connectionpool:Resetting dropped connection: localhost\n",
      "DEBUG:urllib3.connectionpool:http://localhost:8080 \"GET /v2/auth?service=localhost%3A8080&scope=repository%3Ammortari%2Fdemo20240629-oras147%3Apull%2Cpush HTTP/11\" 200 1049\n",
      "DEBUG:urllib3.connectionpool:Resetting dropped connection: localhost\n",
      "DEBUG:urllib3.connectionpool:http://localhost:8080 \"POST /v2/mmortari/demo20240629-oras147/blobs/uploads/ HTTP/11\" 202 0\n",
      "DEBUG:urllib3.connectionpool:Resetting dropped connection: localhost\n",
      "DEBUG:urllib3.connectionpool:http://localhost:8080 \"PUT /v2/mmortari/demo20240629-oras147/blobs/uploads/201b671e-5e63-4779-9c59-8d036ca528ef?digest=sha256%3A44136fa355b3678a1146ad16f7e8649e94fb4fc21fe77e8310c060f61caaff8a HTTP/11\" 201 0\n",
      "DEBUG:urllib3.connectionpool:Resetting dropped connection: localhost\n",
      "DEBUG:urllib3.connectionpool:http://localhost:8080 \"PUT /v2/mmortari/demo20240629-oras147/manifests/latest HTTP/11\" 401 112\n",
      "DEBUG:oras.logger:Service: localhost:8080\n",
      "DEBUG:oras.logger:Scope: repository:mmortari/demo20240629-oras147:pull,push\n",
      "DEBUG:urllib3.connectionpool:Resetting dropped connection: localhost\n",
      "DEBUG:urllib3.connectionpool:http://localhost:8080 \"GET /v2/auth?service=localhost%3A8080&scope=repository%3Ammortari%2Fdemo20240629-oras147%3Apull%2Cpush HTTP/11\" 200 1049\n",
      "DEBUG:urllib3.connectionpool:Resetting dropped connection: localhost\n",
      "DEBUG:urllib3.connectionpool:http://localhost:8080 \"PUT /v2/mmortari/demo20240629-oras147/manifests/latest HTTP/11\" 201 2\n"
     ]
    },
    {
     "name": "stdout",
     "output_type": "stream",
     "text": [
      "Successfully pushed localhost:8080/mmortari/demo20240629-oras147:latest\n"
     ]
    },
    {
     "data": {
      "text/plain": [
       "<Response [201]>"
      ]
     },
     "execution_count": 1,
     "metadata": {},
     "output_type": "execute_result"
    }
   ],
   "source": [
    "import logging\n",
    "logging.basicConfig(level=logging.DEBUG)\n",
    "\n",
    "from dotenv import load_dotenv\n",
    "load_dotenv(\".localhost.quay.env\") # containing ORAS_USER=... and ORAS_PASS=...\n",
    "\n",
    "import oras.client\n",
    "client = oras.client.OrasClient(insecure=True)\n",
    "client.push(files=[\"artifact.txt\"], target=\"localhost:8080/mmortari/demo20240629-oras147\")"
   ]
  },
  {
   "cell_type": "code",
   "execution_count": 2,
   "metadata": {},
   "outputs": [
    {
     "name": "stderr",
     "output_type": "stream",
     "text": [
      "DEBUG:urllib3.connectionpool:Resetting dropped connection: localhost\n",
      "DEBUG:urllib3.connectionpool:http://localhost:8080 \"GET /v2/mmortari/demo20240629-oras147/manifests/latest HTTP/11\" 401 112\n",
      "DEBUG:oras.logger:Service: localhost:8080\n",
      "DEBUG:oras.logger:Scope: repository:mmortari/demo20240629-oras147:pull\n",
      "DEBUG:urllib3.connectionpool:Resetting dropped connection: localhost\n",
      "DEBUG:urllib3.connectionpool:http://localhost:8080 \"GET /v2/auth?service=localhost%3A8080&scope=repository%3Ammortari%2Fdemo20240629-oras147%3Apull HTTP/11\" 401 95\n",
      "DEBUG:oras.logger:Auth response was not successful: {\"errors\":[{\"code\":\"UNAUTHORIZED\",\"detail\":{},\"message\":\"Specified credentials are invalid\"}]}\n",
      "\n",
      "DEBUG:oras.logger:Trying with provided Basic Authorization...\n",
      "DEBUG:urllib3.connectionpool:Resetting dropped connection: localhost\n",
      "DEBUG:urllib3.connectionpool:http://localhost:8080 \"GET /v2/mmortari/demo20240629-oras147/manifests/latest HTTP/11\" 200 495\n",
      "DEBUG:urllib3.connectionpool:Resetting dropped connection: localhost\n",
      "DEBUG:urllib3.connectionpool:http://localhost:8080 \"GET /v2/mmortari/demo20240629-oras147/blobs/sha256:7f52942f815315896486adb3dd78f80d31a3269292eea67cf09d49ec3593c516 HTTP/11\" 200 164\n",
      "INFO:oras.logger:Successfully pulled /Users/mmortari/git/demo20240629-oras147-testregistries/tmp/quay/artifact.txt.\n"
     ]
    },
    {
     "data": {
      "text/plain": [
       "['/Users/mmortari/git/demo20240629-oras147-testregistries/tmp/quay/artifact.txt']"
      ]
     },
     "execution_count": 2,
     "metadata": {},
     "output_type": "execute_result"
    }
   ],
   "source": [
    "!rm -rf tmp/quay\n",
    "client.pull(target=\"localhost:8080/mmortari/demo20240629-oras147\", outdir=\"tmp/quay\")"
   ]
  },
  {
   "cell_type": "code",
   "execution_count": 3,
   "metadata": {},
   "outputs": [
    {
     "name": "stdout",
     "output_type": "stream",
     "text": [
      "This is the content of the file artifact.txt\n",
      "\n",
      "Using this file just to store some asset as OCI artifact\n",
      "\n",
      "If you are seeing this, this is the content of artifact.txt\n"
     ]
    }
   ],
   "source": [
    "!cat tmp/quay/artifact.txt"
   ]
  }
 ],
 "metadata": {
  "kernelspec": {
   "display_name": "demo20240629-oras147-testregistries-Ja2Z1fe0-py3.10",
   "language": "python",
   "name": "python3"
  },
  "language_info": {
   "codemirror_mode": {
    "name": "ipython",
    "version": 3
   },
   "file_extension": ".py",
   "mimetype": "text/x-python",
   "name": "python",
   "nbconvert_exporter": "python",
   "pygments_lexer": "ipython3",
   "version": "3.10.13"
  }
 },
 "nbformat": 4,
 "nbformat_minor": 2
}
